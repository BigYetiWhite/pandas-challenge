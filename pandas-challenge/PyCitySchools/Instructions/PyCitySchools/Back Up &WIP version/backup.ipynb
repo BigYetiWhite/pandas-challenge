{
 "cells": [
  {
   "cell_type": "markdown",
   "metadata": {},
   "source": [
    "### Note\n",
    "* Instructions have been included for each segment. You do not have to follow them exactly, but they are included to help you think through the steps."
   ]
  },
  {
   "cell_type": "code",
   "execution_count": 2,
   "metadata": {},
   "outputs": [],
   "source": [
    "# Dependencies and Setup\n",
    "import pandas as pd\n",
    "import numpy as np\n",
    "\n",
    "# File to Load (Remember to Change These)\n",
    "school_data_to_load = \"Resources/schools_complete.csv\"\n",
    "student_data_to_load = \"Resources/students_complete.csv\"\n",
    "\n",
    "# Read School and Student Data File and store into Pandas DataFrames\n",
    "school_data = pd.read_csv(school_data_to_load)\n",
    "student_data = pd.read_csv(student_data_to_load)\n",
    "\n",
    "# Combine the data into a single dataset.  \n",
    "school_data_complete = pd.merge(student_data, school_data, how=\"left\", on=[\"school_name\", \"school_name\"])"
   ]
  },
  {
   "cell_type": "markdown",
   "metadata": {},
   "source": [
    "## Local Government Area Summary\n",
    "\n",
    "* Calculate the total number of schools\n",
    "\n",
    "* Calculate the total number of students\n",
    "\n",
    "* Calculate the total budget\n",
    "\n",
    "* Calculate the average maths score \n",
    "\n",
    "* Calculate the average reading score\n",
    "\n",
    "* Calculate the percentage of students with a passing maths score (50 or greater)\n",
    "\n",
    "* Calculate the percentage of students with a passing reading score (50 or greater)\n",
    "\n",
    "* Calculate the percentage of students who passed maths **and** reading (% Overall Passing)\n",
    "\n",
    "* Create a dataframe to hold the above results\n",
    "\n",
    "* Optional: give the displayed data cleaner formatting"
   ]
  },
  {
   "cell_type": "code",
   "execution_count": 3,
   "metadata": {},
   "outputs": [],
   "source": [
    "import pandas as pd"
   ]
  },
  {
   "cell_type": "code",
   "execution_count": 4,
   "metadata": {
    "scrolled": true
   },
   "outputs": [
    {
     "data": {
      "text/html": [
       "<div>\n",
       "<style scoped>\n",
       "    .dataframe tbody tr th:only-of-type {\n",
       "        vertical-align: middle;\n",
       "    }\n",
       "\n",
       "    .dataframe tbody tr th {\n",
       "        vertical-align: top;\n",
       "    }\n",
       "\n",
       "    .dataframe thead th {\n",
       "        text-align: right;\n",
       "    }\n",
       "</style>\n",
       "<table border=\"1\" class=\"dataframe\">\n",
       "  <thead>\n",
       "    <tr style=\"text-align: right;\">\n",
       "      <th></th>\n",
       "      <th>School ID</th>\n",
       "      <th>size</th>\n",
       "      <th>budget</th>\n",
       "    </tr>\n",
       "  </thead>\n",
       "  <tbody>\n",
       "    <tr>\n",
       "      <th>count</th>\n",
       "      <td>15.000000</td>\n",
       "      <td>15.000000</td>\n",
       "      <td>1.500000e+01</td>\n",
       "    </tr>\n",
       "    <tr>\n",
       "      <th>mean</th>\n",
       "      <td>7.000000</td>\n",
       "      <td>2611.333333</td>\n",
       "      <td>1.643295e+06</td>\n",
       "    </tr>\n",
       "    <tr>\n",
       "      <th>std</th>\n",
       "      <td>4.472136</td>\n",
       "      <td>1420.915282</td>\n",
       "      <td>9.347763e+05</td>\n",
       "    </tr>\n",
       "    <tr>\n",
       "      <th>min</th>\n",
       "      <td>0.000000</td>\n",
       "      <td>427.000000</td>\n",
       "      <td>2.480870e+05</td>\n",
       "    </tr>\n",
       "    <tr>\n",
       "      <th>25%</th>\n",
       "      <td>3.500000</td>\n",
       "      <td>1698.000000</td>\n",
       "      <td>1.046265e+06</td>\n",
       "    </tr>\n",
       "    <tr>\n",
       "      <th>50%</th>\n",
       "      <td>7.000000</td>\n",
       "      <td>2283.000000</td>\n",
       "      <td>1.319574e+06</td>\n",
       "    </tr>\n",
       "    <tr>\n",
       "      <th>75%</th>\n",
       "      <td>10.500000</td>\n",
       "      <td>3474.000000</td>\n",
       "      <td>2.228999e+06</td>\n",
       "    </tr>\n",
       "    <tr>\n",
       "      <th>max</th>\n",
       "      <td>14.000000</td>\n",
       "      <td>4976.000000</td>\n",
       "      <td>3.124928e+06</td>\n",
       "    </tr>\n",
       "  </tbody>\n",
       "</table>\n",
       "</div>"
      ],
      "text/plain": [
       "       School ID         size        budget\n",
       "count  15.000000    15.000000  1.500000e+01\n",
       "mean    7.000000  2611.333333  1.643295e+06\n",
       "std     4.472136  1420.915282  9.347763e+05\n",
       "min     0.000000   427.000000  2.480870e+05\n",
       "25%     3.500000  1698.000000  1.046265e+06\n",
       "50%     7.000000  2283.000000  1.319574e+06\n",
       "75%    10.500000  3474.000000  2.228999e+06\n",
       "max    14.000000  4976.000000  3.124928e+06"
      ]
     },
     "execution_count": 4,
     "metadata": {},
     "output_type": "execute_result"
    }
   ],
   "source": [
    "school_data_csv = \"Resources/schools_complete.csv\"\n",
    "school_data_df = pd.read_csv(school_data_csv)\n",
    "\n",
    "school_data_df.describe()"
   ]
  },
  {
   "cell_type": "code",
   "execution_count": 5,
   "metadata": {},
   "outputs": [
    {
     "data": {
      "text/html": [
       "<div>\n",
       "<style scoped>\n",
       "    .dataframe tbody tr th:only-of-type {\n",
       "        vertical-align: middle;\n",
       "    }\n",
       "\n",
       "    .dataframe tbody tr th {\n",
       "        vertical-align: top;\n",
       "    }\n",
       "\n",
       "    .dataframe thead th {\n",
       "        text-align: right;\n",
       "    }\n",
       "</style>\n",
       "<table border=\"1\" class=\"dataframe\">\n",
       "  <thead>\n",
       "    <tr style=\"text-align: right;\">\n",
       "      <th></th>\n",
       "      <th>Student ID</th>\n",
       "      <th>year</th>\n",
       "      <th>reading_score</th>\n",
       "      <th>maths_score</th>\n",
       "    </tr>\n",
       "  </thead>\n",
       "  <tbody>\n",
       "    <tr>\n",
       "      <th>count</th>\n",
       "      <td>39170.000000</td>\n",
       "      <td>39170.000000</td>\n",
       "      <td>39170.000000</td>\n",
       "      <td>39170.000000</td>\n",
       "    </tr>\n",
       "    <tr>\n",
       "      <th>mean</th>\n",
       "      <td>19584.500000</td>\n",
       "      <td>10.359586</td>\n",
       "      <td>69.980138</td>\n",
       "      <td>70.338192</td>\n",
       "    </tr>\n",
       "    <tr>\n",
       "      <th>std</th>\n",
       "      <td>11307.549359</td>\n",
       "      <td>1.102779</td>\n",
       "      <td>17.242346</td>\n",
       "      <td>16.910154</td>\n",
       "    </tr>\n",
       "    <tr>\n",
       "      <th>min</th>\n",
       "      <td>0.000000</td>\n",
       "      <td>9.000000</td>\n",
       "      <td>39.000000</td>\n",
       "      <td>39.000000</td>\n",
       "    </tr>\n",
       "    <tr>\n",
       "      <th>25%</th>\n",
       "      <td>9792.250000</td>\n",
       "      <td>9.000000</td>\n",
       "      <td>55.000000</td>\n",
       "      <td>56.000000</td>\n",
       "    </tr>\n",
       "    <tr>\n",
       "      <th>50%</th>\n",
       "      <td>19584.500000</td>\n",
       "      <td>10.000000</td>\n",
       "      <td>70.000000</td>\n",
       "      <td>70.000000</td>\n",
       "    </tr>\n",
       "    <tr>\n",
       "      <th>75%</th>\n",
       "      <td>29376.750000</td>\n",
       "      <td>11.000000</td>\n",
       "      <td>85.000000</td>\n",
       "      <td>85.000000</td>\n",
       "    </tr>\n",
       "    <tr>\n",
       "      <th>max</th>\n",
       "      <td>39169.000000</td>\n",
       "      <td>12.000000</td>\n",
       "      <td>99.000000</td>\n",
       "      <td>99.000000</td>\n",
       "    </tr>\n",
       "  </tbody>\n",
       "</table>\n",
       "</div>"
      ],
      "text/plain": [
       "         Student ID          year  reading_score   maths_score\n",
       "count  39170.000000  39170.000000   39170.000000  39170.000000\n",
       "mean   19584.500000     10.359586      69.980138     70.338192\n",
       "std    11307.549359      1.102779      17.242346     16.910154\n",
       "min        0.000000      9.000000      39.000000     39.000000\n",
       "25%     9792.250000      9.000000      55.000000     56.000000\n",
       "50%    19584.500000     10.000000      70.000000     70.000000\n",
       "75%    29376.750000     11.000000      85.000000     85.000000\n",
       "max    39169.000000     12.000000      99.000000     99.000000"
      ]
     },
     "execution_count": 5,
     "metadata": {},
     "output_type": "execute_result"
    }
   ],
   "source": [
    "student_data_csv = \"Resources/students_complete.csv\"\n",
    "student_data_df = pd.read_csv(student_data_csv)\n",
    "student_data_df.describe()"
   ]
  },
  {
   "cell_type": "code",
   "execution_count": 6,
   "metadata": {
    "scrolled": true
   },
   "outputs": [
    {
     "data": {
      "text/html": [
       "<div>\n",
       "<style scoped>\n",
       "    .dataframe tbody tr th:only-of-type {\n",
       "        vertical-align: middle;\n",
       "    }\n",
       "\n",
       "    .dataframe tbody tr th {\n",
       "        vertical-align: top;\n",
       "    }\n",
       "\n",
       "    .dataframe thead th {\n",
       "        text-align: right;\n",
       "    }\n",
       "</style>\n",
       "<table border=\"1\" class=\"dataframe\">\n",
       "  <thead>\n",
       "    <tr style=\"text-align: right;\">\n",
       "      <th></th>\n",
       "      <th>Student ID</th>\n",
       "      <th>student_name</th>\n",
       "      <th>gender</th>\n",
       "      <th>year</th>\n",
       "      <th>school_name</th>\n",
       "      <th>reading_score</th>\n",
       "      <th>maths_score</th>\n",
       "      <th>School ID</th>\n",
       "      <th>type</th>\n",
       "      <th>size</th>\n",
       "      <th>budget</th>\n",
       "    </tr>\n",
       "  </thead>\n",
       "  <tbody>\n",
       "    <tr>\n",
       "      <th>0</th>\n",
       "      <td>0</td>\n",
       "      <td>Paul Bradley</td>\n",
       "      <td>M</td>\n",
       "      <td>9</td>\n",
       "      <td>Huang High School</td>\n",
       "      <td>96</td>\n",
       "      <td>94</td>\n",
       "      <td>0</td>\n",
       "      <td>Government</td>\n",
       "      <td>2917</td>\n",
       "      <td>1910635</td>\n",
       "    </tr>\n",
       "    <tr>\n",
       "      <th>1</th>\n",
       "      <td>1</td>\n",
       "      <td>Victor Smith</td>\n",
       "      <td>M</td>\n",
       "      <td>12</td>\n",
       "      <td>Huang High School</td>\n",
       "      <td>90</td>\n",
       "      <td>43</td>\n",
       "      <td>0</td>\n",
       "      <td>Government</td>\n",
       "      <td>2917</td>\n",
       "      <td>1910635</td>\n",
       "    </tr>\n",
       "    <tr>\n",
       "      <th>2</th>\n",
       "      <td>2</td>\n",
       "      <td>Kevin Rodriguez</td>\n",
       "      <td>M</td>\n",
       "      <td>12</td>\n",
       "      <td>Huang High School</td>\n",
       "      <td>41</td>\n",
       "      <td>76</td>\n",
       "      <td>0</td>\n",
       "      <td>Government</td>\n",
       "      <td>2917</td>\n",
       "      <td>1910635</td>\n",
       "    </tr>\n",
       "    <tr>\n",
       "      <th>3</th>\n",
       "      <td>3</td>\n",
       "      <td>Richard Scott</td>\n",
       "      <td>M</td>\n",
       "      <td>12</td>\n",
       "      <td>Huang High School</td>\n",
       "      <td>89</td>\n",
       "      <td>86</td>\n",
       "      <td>0</td>\n",
       "      <td>Government</td>\n",
       "      <td>2917</td>\n",
       "      <td>1910635</td>\n",
       "    </tr>\n",
       "    <tr>\n",
       "      <th>4</th>\n",
       "      <td>4</td>\n",
       "      <td>Bonnie Ray</td>\n",
       "      <td>F</td>\n",
       "      <td>9</td>\n",
       "      <td>Huang High School</td>\n",
       "      <td>87</td>\n",
       "      <td>69</td>\n",
       "      <td>0</td>\n",
       "      <td>Government</td>\n",
       "      <td>2917</td>\n",
       "      <td>1910635</td>\n",
       "    </tr>\n",
       "  </tbody>\n",
       "</table>\n",
       "</div>"
      ],
      "text/plain": [
       "   Student ID     student_name gender  year        school_name  reading_score  \\\n",
       "0           0     Paul Bradley      M     9  Huang High School             96   \n",
       "1           1     Victor Smith      M    12  Huang High School             90   \n",
       "2           2  Kevin Rodriguez      M    12  Huang High School             41   \n",
       "3           3    Richard Scott      M    12  Huang High School             89   \n",
       "4           4       Bonnie Ray      F     9  Huang High School             87   \n",
       "\n",
       "   maths_score  School ID        type  size   budget  \n",
       "0           94          0  Government  2917  1910635  \n",
       "1           43          0  Government  2917  1910635  \n",
       "2           76          0  Government  2917  1910635  \n",
       "3           86          0  Government  2917  1910635  \n",
       "4           69          0  Government  2917  1910635  "
      ]
     },
     "execution_count": 6,
     "metadata": {},
     "output_type": "execute_result"
    }
   ],
   "source": [
    "student_with_school_combined_data_df = pd.merge(student_data_df, school_data_df, how=\"left\", on=[\"school_name\", \"school_name\"])\n",
    "student_with_school_combined_data_df.head()"
   ]
  },
  {
   "cell_type": "code",
   "execution_count": 7,
   "metadata": {
    "scrolled": false
   },
   "outputs": [
    {
     "data": {
      "text/plain": [
       "array(['Huang High School', 'Figueroa High School', 'Shelton High School',\n",
       "       'Hernandez High School', 'Griffin High School',\n",
       "       'Wilson High School', 'Cabrera High School', 'Bailey High School',\n",
       "       'Holden High School', 'Pena High School', 'Wright High School',\n",
       "       'Rodriguez High School', 'Johnson High School', 'Ford High School',\n",
       "       'Thomas High School'], dtype=object)"
      ]
     },
     "execution_count": 7,
     "metadata": {},
     "output_type": "execute_result"
    }
   ],
   "source": [
    "unique_schools = student_with_school_combined_data_df[\"school_name\"].unique()\n",
    "unique_schools"
   ]
  },
  {
   "cell_type": "code",
   "execution_count": 8,
   "metadata": {
    "scrolled": false
   },
   "outputs": [
    {
     "data": {
      "text/plain": [
       "school_name            type       \n",
       "Bailey High School     Government     3124928\n",
       "Cabrera High School    Independent    1081356\n",
       "Figueroa High School   Government     1884411\n",
       "Ford High School       Government     1763916\n",
       "Griffin High School    Independent     917500\n",
       "Hernandez High School  Government     3022020\n",
       "Holden High School     Independent     248087\n",
       "Huang High School      Government     1910635\n",
       "Johnson High School    Government     3094650\n",
       "Pena High School       Independent     585858\n",
       "Rodriguez High School  Government     2547363\n",
       "Shelton High School    Independent    1056600\n",
       "Thomas High School     Independent    1043130\n",
       "Wilson High School     Independent    1319574\n",
       "Wright High School     Independent    1049400\n",
       "Name: budget, dtype: int32"
      ]
     },
     "execution_count": 8,
     "metadata": {},
     "output_type": "execute_result"
    }
   ],
   "source": [
    "total_budget_df = student_with_school_combined_data_df.groupby(['school_name', 'type'])[\"budget\"].mean().astype(int)\n",
    "total_budget_df"
   ]
  },
  {
   "cell_type": "code",
   "execution_count": 9,
   "metadata": {
    "scrolled": true
   },
   "outputs": [
    {
     "data": {
      "text/plain": [
       "school_name            type       \n",
       "Bailey High School     Government     4976\n",
       "Cabrera High School    Independent    1858\n",
       "Figueroa High School   Government     2949\n",
       "Ford High School       Government     2739\n",
       "Griffin High School    Independent    1468\n",
       "Hernandez High School  Government     4635\n",
       "Holden High School     Independent     427\n",
       "Huang High School      Government     2917\n",
       "Johnson High School    Government     4761\n",
       "Pena High School       Independent     962\n",
       "Rodriguez High School  Government     3999\n",
       "Shelton High School    Independent    1761\n",
       "Thomas High School     Independent    1635\n",
       "Wilson High School     Independent    2283\n",
       "Wright High School     Independent    1800\n",
       "Name: student_name, dtype: int32"
      ]
     },
     "execution_count": 9,
     "metadata": {},
     "output_type": "execute_result"
    }
   ],
   "source": [
    "total_Students_df = student_with_school_combined_data_df.groupby(['school_name', 'type'])[\"student_name\"].count().astype(int)\n",
    "total_Students_df"
   ]
  },
  {
   "cell_type": "markdown",
   "metadata": {},
   "source": [
    "## School Summary"
   ]
  },
  {
   "cell_type": "code",
   "execution_count": 10,
   "metadata": {},
   "outputs": [
    {
     "name": "stdout",
     "output_type": "stream",
     "text": [
      "86.08%\n"
     ]
    }
   ],
   "source": [
    "Percent_math_pass = (((student_with_school_combined_data_df.where(student_with_school_combined_data_df.maths_score>=50)).count())/(len(student_with_school_combined_data_df))*100).map(\"{:,.2f}%\".format)\n",
    "print(Percent_math_pass.loc['maths_score'])"
   ]
  },
  {
   "cell_type": "code",
   "execution_count": 267,
   "metadata": {
    "scrolled": false
   },
   "outputs": [
    {
     "name": "stdout",
     "output_type": "stream",
     "text": [
      "84.43%\n"
     ]
    }
   ],
   "source": [
    "Percent_reading_pass = (((student_with_school_combined_data_df.where(student_with_school_combined_data_df.reading_score>=50)).count())/(len(student_with_school_combined_data_df))*100).map(\"{:,.2f}%\".format)\n",
    "print(Percent_reading_pass.loc['reading_score'])"
   ]
  },
  {
   "cell_type": "code",
   "execution_count": 268,
   "metadata": {},
   "outputs": [
    {
     "data": {
      "text/plain": [
       "'28,519'"
      ]
     },
     "execution_count": 268,
     "metadata": {},
     "output_type": "execute_result"
    }
   ],
   "source": [
    "Overall_Pass = \"{:,.0f}\".format((len(student_with_school_combined_data_df[(student_with_school_combined_data_df['reading_score']>=50) & (student_with_school_combined_data_df['maths_score']>=50)])))\n",
    "Overall_Pass"
   ]
  },
  {
   "cell_type": "code",
   "execution_count": 269,
   "metadata": {
    "scrolled": true
   },
   "outputs": [
    {
     "data": {
      "text/html": [
       "<div>\n",
       "<style scoped>\n",
       "    .dataframe tbody tr th:only-of-type {\n",
       "        vertical-align: middle;\n",
       "    }\n",
       "\n",
       "    .dataframe tbody tr th {\n",
       "        vertical-align: top;\n",
       "    }\n",
       "\n",
       "    .dataframe thead th {\n",
       "        text-align: right;\n",
       "    }\n",
       "</style>\n",
       "<table border=\"1\" class=\"dataframe\">\n",
       "  <thead>\n",
       "    <tr style=\"text-align: right;\">\n",
       "      <th></th>\n",
       "      <th>LGA Name</th>\n",
       "      <th>Total No. Unique Schools</th>\n",
       "      <th>Total Students</th>\n",
       "      <th>Total Budget</th>\n",
       "      <th>Average Maths Score</th>\n",
       "      <th>Average Reading Score</th>\n",
       "      <th>Percentage of Students Passing Maths</th>\n",
       "      <th>Percentage of Students Passing Reading</th>\n",
       "      <th>Total Students with an Overall Pass Mark</th>\n",
       "    </tr>\n",
       "  </thead>\n",
       "  <tbody>\n",
       "    <tr>\n",
       "      <th>0</th>\n",
       "      <td>PyCitySchols LGA</td>\n",
       "      <td>15</td>\n",
       "      <td>39,170</td>\n",
       "      <td>$24,649,428.00</td>\n",
       "      <td>70.34</td>\n",
       "      <td>69.98</td>\n",
       "      <td>86.08%</td>\n",
       "      <td>84.43%</td>\n",
       "      <td>28,519</td>\n",
       "    </tr>\n",
       "  </tbody>\n",
       "</table>\n",
       "</div>"
      ],
      "text/plain": [
       "           LGA Name  Total No. Unique Schools Total Students    Total Budget  \\\n",
       "0  PyCitySchols LGA                        15         39,170  $24,649,428.00   \n",
       "\n",
       "  Average Maths Score Average Reading Score  \\\n",
       "0               70.34                 69.98   \n",
       "\n",
       "  Percentage of Students Passing Maths Percentage of Students Passing Reading  \\\n",
       "0                               86.08%                                 84.43%   \n",
       "\n",
       "  Total Students with an Overall Pass Mark  \n",
       "0                                   28,519  "
      ]
     },
     "execution_count": 269,
     "metadata": {},
     "output_type": "execute_result"
    }
   ],
   "source": [
    "LGA_summary_df = pd.DataFrame({\n",
    "     \"LGA Name\": [\"PyCitySchols LGA\"],\n",
    "    \"Total No. Unique Schools\": [total_unique_schools],\n",
    "    \"Total Students\": [Total_Students],\n",
    "    \"Total Budget\": [LGA_Budget],\n",
    "    \"Average Maths Score\": [(Average_Maths_Score.loc['maths_score'])],\n",
    "    \"Average Reading Score\": [(Average_Reading_Score.loc['reading_score'])],\n",
    "    \"Percentage of Students Passing Maths\": [(Percent_math_pass.loc['maths_score'])],\n",
    "    \"Percentage of Students Passing Reading\": [(Percent_reading_pass.loc['reading_score'])],\n",
    "    \"Total Students with an Overall Pass Mark\": [Overall_Pass]\n",
    "    \n",
    "    \n",
    "})\n",
    "LGA_summary_df"
   ]
  },
  {
   "cell_type": "markdown",
   "metadata": {},
   "source": [
    "* Create an overview table that summarises key metrics about each school, including:\n",
    "  * School Name\n",
    "  * School Type\n",
    "  * Total Students\n",
    "  * Total School Budget\n",
    "  * Per Student Budget\n",
    "  * Average Maths Score\n",
    "  * Average Reading Score\n",
    "  * % Passing Maths\n",
    "  * % Passing Reading\n",
    "  * % Overall Passing (The percentage of students that passed maths **and** reading.)\n",
    "  \n",
    "* Create a dataframe to hold the above results"
   ]
  },
  {
   "cell_type": "code",
   "execution_count": 270,
   "metadata": {
    "scrolled": true
   },
   "outputs": [
    {
     "data": {
      "text/plain": [
       "school_name            type       \n",
       "Bailey High School     Government     3124928\n",
       "Cabrera High School    Independent    1081356\n",
       "Figueroa High School   Government     1884411\n",
       "Ford High School       Government     1763916\n",
       "Griffin High School    Independent     917500\n",
       "Hernandez High School  Government     3022020\n",
       "Holden High School     Independent     248087\n",
       "Huang High School      Government     1910635\n",
       "Johnson High School    Government     3094650\n",
       "Pena High School       Independent     585858\n",
       "Rodriguez High School  Government     2547363\n",
       "Shelton High School    Independent    1056600\n",
       "Thomas High School     Independent    1043130\n",
       "Wilson High School     Independent    1319574\n",
       "Wright High School     Independent    1049400\n",
       "Name: budget, dtype: int32"
      ]
     },
     "execution_count": 270,
     "metadata": {},
     "output_type": "execute_result"
    }
   ],
   "source": [
    "total_budget_df"
   ]
  },
  {
   "cell_type": "code",
   "execution_count": 271,
   "metadata": {
    "scrolled": true
   },
   "outputs": [
    {
     "name": "stdout",
     "output_type": "stream",
     "text": [
      "                                   Student_Count  School_Budget  Maths_Mean  \\\n",
      "school_name           type                                                    \n",
      "Bailey High School    Government            4976      3124928.0   72.352894   \n",
      "Cabrera High School   Independent           1858      1081356.0   71.657158   \n",
      "Figueroa High School  Government            2949      1884411.0   68.698542   \n",
      "Ford High School      Government            2739      1763916.0   69.091274   \n",
      "Griffin High School   Independent           1468       917500.0   71.788147   \n",
      "Hernandez High School Government            4635      3022020.0   68.874865   \n",
      "Holden High School    Independent            427       248087.0   72.583138   \n",
      "Huang High School     Government            2917      1910635.0   68.935207   \n",
      "Johnson High School   Government            4761      3094650.0   68.843100   \n",
      "Pena High School      Independent            962       585858.0   72.088358   \n",
      "Rodriguez High School Government            3999      2547363.0   72.047762   \n",
      "Shelton High School   Independent           1761      1056600.0   72.034072   \n",
      "Thomas High School    Independent           1635      1043130.0   69.581651   \n",
      "Wilson High School    Independent           2283      1319574.0   69.170828   \n",
      "Wright High School    Independent           1800      1049400.0   72.047222   \n",
      "\n",
      "                                   Reading_Mean  \n",
      "school_name           type                       \n",
      "Bailey High School    Government      71.008842  \n",
      "Cabrera High School   Independent     71.359526  \n",
      "Figueroa High School  Government      69.077993  \n",
      "Ford High School      Government      69.572472  \n",
      "Griffin High School   Independent     71.245232  \n",
      "Hernandez High School Government      69.186408  \n",
      "Holden High School    Independent     71.660422  \n",
      "Huang High School     Government      68.910525  \n",
      "Johnson High School   Government      69.039277  \n",
      "Pena High School      Independent     71.613306  \n",
      "Rodriguez High School Government      70.935984  \n",
      "Shelton High School   Independent     70.257808  \n",
      "Thomas High School    Independent     69.768807  \n",
      "Wilson High School    Independent     68.876916  \n",
      "Wright High School    Independent     70.969444  \n"
     ]
    }
   ],
   "source": [
    "Schools_summary1_df = student_with_school_combined_data_df.groupby(['school_name', 'type']).agg(\n",
    "   Student_Count=('student_name', np.size),\n",
    "    School_Budget=('budget', np.mean),\n",
    "    Maths_Mean=('maths_score', np.mean),\n",
    "    Reading_Mean=('reading_score', np.mean))\n",
    "\n",
    "print(Schools_summary_df)\n",
    "\n",
    "  #Done(\"School Name\": [total_budget.df],\"School Type\": [total_unique_schools],\"Total Students\": [Total_Students],\"Average Maths Score\": [(Average_Maths_Score.loc['maths_score'])],\n",
    "  #  \"Average Reading Score\": [(Average_Reading_Score.loc['reading_score'])],\n",
    " \n",
    "   # \"Per Student Budget\" : [\"TBA\"], \n",
    "  #  \"Percentage of Students Passing Maths\": [(Percent_math_pass.loc['maths_score'])],\n",
    "  #  \"Percentage of Students Passing Reading\": [(Percent_reading_pass.loc['reading_score'])],\n",
    "  #  \"Total Students with an Overall Pass Mark\": [Overall_Pass]"
   ]
  },
  {
   "cell_type": "code",
   "execution_count": 272,
   "metadata": {
    "scrolled": true
   },
   "outputs": [
    {
     "name": "stdout",
     "output_type": "stream",
     "text": [
      "school_name            type       \n",
      "Bailey High School     Government     628.0\n",
      "Cabrera High School    Independent    582.0\n",
      "Figueroa High School   Government     639.0\n",
      "Ford High School       Government     644.0\n",
      "Griffin High School    Independent    625.0\n",
      "Hernandez High School  Government     652.0\n",
      "Holden High School     Independent    581.0\n",
      "Huang High School      Government     655.0\n",
      "Johnson High School    Government     650.0\n",
      "Pena High School       Independent    609.0\n",
      "Rodriguez High School  Government     637.0\n",
      "Shelton High School    Independent    600.0\n",
      "Thomas High School     Independent    638.0\n",
      "Wilson High School     Independent    578.0\n",
      "Wright High School     Independent    583.0\n",
      "dtype: float64\n"
     ]
    }
   ],
   "source": [
    "Student_Budget_df = total_budget.df/total_Students_df\n",
    "print(Student_Budget_df)"
   ]
  },
  {
   "cell_type": "code",
   "execution_count": 273,
   "metadata": {},
   "outputs": [
    {
     "name": "stdout",
     "output_type": "stream",
     "text": [
      "                                         School Name  \\\n",
      "0  [Huang High School, Figueroa High School, Shel...   \n",
      "\n",
      "                                      Total Students  \\\n",
      "0  [[4976, 1858, 2949, 2739, 1468, 4635, 427, 291...   \n",
      "\n",
      "                                       School Budget  \\\n",
      "0  [[3124928, 1081356, 1884411, 1763916, 917500, ...   \n",
      "\n",
      "                                      Student Budget  \n",
      "0  [[628.0, 582.0, 639.0, 644.0, 625.0, 652.0, 58...  \n"
     ]
    }
   ],
   "source": [
    "School_Level_Data_df= pd.DataFrame({\n",
    "   \"School Name\": [unique_schools],\n",
    "    \"Total Students\": [([total_Students_df])],\n",
    "    \"School Budget\": [([total_budget.df])],\n",
    "    \"Student Budget\": [([total_budget.df/total_Students_df])]\n",
    "    #\"Average Maths Score\": [(Average_Maths_Score.loc['maths_score'])],\n",
    "    #\"Average Reading Score\": [(Average_Reading_Score.loc['reading_score'])],\n",
    "    #\"Percentage of Students Passing Maths\": [(Percent_math_pass.loc['maths_score'])],\n",
    "    #\"Percentage of Students Passing Reading\": [(Percent_reading_pass.loc['reading_score'])],\n",
    "    #\"Total Students with an Overall Pass Mark\": [Overall_Pass]\n",
    "})\n",
    "print(School_Level_Data_df)"
   ]
  },
  {
   "cell_type": "code",
   "execution_count": 274,
   "metadata": {},
   "outputs": [
    {
     "name": "stdout",
     "output_type": "stream",
     "text": [
      "84.43%\n"
     ]
    }
   ],
   "source": [
    "School_Percent_reading_pass = (((student_with_school_combined_data_df.where(student_with_school_combined_data_df.reading_score>=50)).count())/(len(student_with_school_combined_data_df))*100).map(\"{:,.2f}%\".format)\n",
    "print(Percent_reading_pass.loc['reading_score'])"
   ]
  },
  {
   "cell_type": "code",
   "execution_count": 276,
   "metadata": {
    "scrolled": true
   },
   "outputs": [
    {
     "ename": "TypeError",
     "evalue": "'DataFrameGroupBy' object is not callable",
     "output_type": "error",
     "traceback": [
      "\u001b[1;31m---------------------------------------------------------------------------\u001b[0m",
      "\u001b[1;31mTypeError\u001b[0m                                 Traceback (most recent call last)",
      "\u001b[1;32m~\\AppData\\Local\\Temp\\ipykernel_24660\\3321296954.py\u001b[0m in \u001b[0;36m<module>\u001b[1;34m\u001b[0m\n\u001b[1;32m----> 1\u001b[1;33m \u001b[0mPercent_reading_pass\u001b[0m \u001b[1;33m=\u001b[0m \u001b[0mstudent_with_school_combined_data_df\u001b[0m\u001b[1;33m.\u001b[0m\u001b[0mgroupby\u001b[0m\u001b[1;33m(\u001b[0m\u001b[1;33m[\u001b[0m\u001b[1;34m'school_name'\u001b[0m\u001b[1;33m,\u001b[0m \u001b[1;34m'type'\u001b[0m\u001b[1;33m]\u001b[0m\u001b[1;33m)\u001b[0m\u001b[1;33m(\u001b[0m\u001b[1;33m(\u001b[0m\u001b[1;33m(\u001b[0m\u001b[1;33m(\u001b[0m\u001b[0mstudent_with_school_combined_data_df\u001b[0m\u001b[1;33m.\u001b[0m\u001b[0mwhere\u001b[0m\u001b[1;33m(\u001b[0m\u001b[0mstudent_with_school_combined_data_df\u001b[0m\u001b[1;33m.\u001b[0m\u001b[0mreading_score\u001b[0m\u001b[1;33m>=\u001b[0m\u001b[1;36m50\u001b[0m\u001b[1;33m)\u001b[0m\u001b[1;33m)\u001b[0m\u001b[1;33m.\u001b[0m\u001b[0mcount\u001b[0m\u001b[1;33m(\u001b[0m\u001b[1;33m)\u001b[0m\u001b[1;33m)\u001b[0m\u001b[1;33m/\u001b[0m\u001b[1;33m(\u001b[0m\u001b[0mlen\u001b[0m\u001b[1;33m(\u001b[0m\u001b[0mstudent_with_school_combined_data_df\u001b[0m\u001b[1;33m)\u001b[0m\u001b[1;33m)\u001b[0m\u001b[1;33m*\u001b[0m\u001b[1;36m100\u001b[0m\u001b[1;33m)\u001b[0m\u001b[1;33m.\u001b[0m\u001b[0mmap\u001b[0m\u001b[1;33m(\u001b[0m\u001b[1;34m\"{:,.2f}%\"\u001b[0m\u001b[1;33m.\u001b[0m\u001b[0mformat\u001b[0m\u001b[1;33m)\u001b[0m\u001b[1;33m)\u001b[0m\u001b[1;33m\u001b[0m\u001b[1;33m\u001b[0m\u001b[0m\n\u001b[0m\u001b[0;32m      2\u001b[0m \u001b[0mprint\u001b[0m\u001b[1;33m(\u001b[0m\u001b[0mPercent_reading_pass\u001b[0m\u001b[1;33m.\u001b[0m\u001b[0mloc\u001b[0m\u001b[1;33m[\u001b[0m\u001b[1;34m'reading_score'\u001b[0m\u001b[1;33m]\u001b[0m\u001b[1;33m)\u001b[0m\u001b[1;33m\u001b[0m\u001b[1;33m\u001b[0m\u001b[0m\n",
      "\u001b[1;31mTypeError\u001b[0m: 'DataFrameGroupBy' object is not callable"
     ]
    }
   ],
   "source": [
    "Percent_reading_pass = student_with_school_combined_data_df.groupby(['school_name', 'type'])((((student_with_school_combined_data_df.where(student_with_school_combined_data_df.reading_score>=50)).count())/(len(student_with_school_combined_data_df))*100).map(\"{:,.2f}%\".format))\n",
    "print(Percent_reading_pass.loc['reading_score'])"
   ]
  },
  {
   "cell_type": "code",
   "execution_count": null,
   "metadata": {},
   "outputs": [],
   "source": []
  },
  {
   "cell_type": "markdown",
   "metadata": {},
   "source": [
    "## Top Performing Schools (By % Overall Passing)"
   ]
  },
  {
   "cell_type": "markdown",
   "metadata": {},
   "source": [
    "* Sort and display the top five performing schools by % overall passing."
   ]
  },
  {
   "cell_type": "code",
   "execution_count": null,
   "metadata": {
    "scrolled": false
   },
   "outputs": [],
   "source": []
  },
  {
   "cell_type": "markdown",
   "metadata": {},
   "source": [
    "## Bottom Performing Schools (By % Overall Passing)"
   ]
  },
  {
   "cell_type": "markdown",
   "metadata": {},
   "source": [
    "* Sort and display the five worst-performing schools by % overall passing."
   ]
  },
  {
   "cell_type": "code",
   "execution_count": null,
   "metadata": {
    "scrolled": true
   },
   "outputs": [],
   "source": []
  },
  {
   "cell_type": "markdown",
   "metadata": {
    "collapsed": true
   },
   "source": [
    "## Maths Scores by Year"
   ]
  },
  {
   "cell_type": "markdown",
   "metadata": {},
   "source": [
    "* Create a table that lists the average maths score for students of each year level (9, 10, 11, 12) at each school.\n",
    "\n",
    "  * Create a pandas series for each year. Hint: use a conditional statement.\n",
    "  \n",
    "  * Group each series by school\n",
    "  \n",
    "  * Combine the series into a dataframe\n",
    "  \n",
    "  * Optional: give the displayed data cleaner formatting"
   ]
  },
  {
   "cell_type": "code",
   "execution_count": 12,
   "metadata": {},
   "outputs": [
    {
     "data": {
      "text/html": [
       "<div>\n",
       "<style scoped>\n",
       "    .dataframe tbody tr th:only-of-type {\n",
       "        vertical-align: middle;\n",
       "    }\n",
       "\n",
       "    .dataframe tbody tr th {\n",
       "        vertical-align: top;\n",
       "    }\n",
       "\n",
       "    .dataframe thead th {\n",
       "        text-align: right;\n",
       "    }\n",
       "</style>\n",
       "<table border=\"1\" class=\"dataframe\">\n",
       "  <thead>\n",
       "    <tr style=\"text-align: right;\">\n",
       "      <th></th>\n",
       "      <th>Year 9</th>\n",
       "      <th>Year 10</th>\n",
       "      <th>Year 11</th>\n",
       "      <th>Year 12</th>\n",
       "    </tr>\n",
       "  </thead>\n",
       "  <tbody>\n",
       "    <tr>\n",
       "      <th>Bailey High School</th>\n",
       "      <td>72.493827</td>\n",
       "      <td>71.897498</td>\n",
       "      <td>72.374900</td>\n",
       "      <td>72.675097</td>\n",
       "    </tr>\n",
       "    <tr>\n",
       "      <th>Cabrera High School</th>\n",
       "      <td>72.321970</td>\n",
       "      <td>72.437768</td>\n",
       "      <td>71.008299</td>\n",
       "      <td>70.604712</td>\n",
       "    </tr>\n",
       "    <tr>\n",
       "      <th>Figueroa High School</th>\n",
       "      <td>68.477804</td>\n",
       "      <td>68.331586</td>\n",
       "      <td>68.811001</td>\n",
       "      <td>69.325282</td>\n",
       "    </tr>\n",
       "    <tr>\n",
       "      <th>Ford High School</th>\n",
       "      <td>69.021609</td>\n",
       "      <td>69.387006</td>\n",
       "      <td>69.248862</td>\n",
       "      <td>68.617811</td>\n",
       "    </tr>\n",
       "    <tr>\n",
       "      <th>Griffin High School</th>\n",
       "      <td>72.789731</td>\n",
       "      <td>71.093596</td>\n",
       "      <td>71.692521</td>\n",
       "      <td>71.469178</td>\n",
       "    </tr>\n",
       "    <tr>\n",
       "      <th>Hernandez High School</th>\n",
       "      <td>68.586831</td>\n",
       "      <td>68.867156</td>\n",
       "      <td>69.154412</td>\n",
       "      <td>68.985075</td>\n",
       "    </tr>\n",
       "    <tr>\n",
       "      <th>Holden High School</th>\n",
       "      <td>70.543307</td>\n",
       "      <td>75.105263</td>\n",
       "      <td>71.640777</td>\n",
       "      <td>73.409639</td>\n",
       "    </tr>\n",
       "    <tr>\n",
       "      <th>Huang High School</th>\n",
       "      <td>69.081754</td>\n",
       "      <td>68.533246</td>\n",
       "      <td>69.431345</td>\n",
       "      <td>68.639316</td>\n",
       "    </tr>\n",
       "    <tr>\n",
       "      <th>Johnson High School</th>\n",
       "      <td>69.469286</td>\n",
       "      <td>67.990220</td>\n",
       "      <td>68.637730</td>\n",
       "      <td>69.287393</td>\n",
       "    </tr>\n",
       "    <tr>\n",
       "      <th>Pena High School</th>\n",
       "      <td>71.996364</td>\n",
       "      <td>72.396000</td>\n",
       "      <td>72.523438</td>\n",
       "      <td>71.187845</td>\n",
       "    </tr>\n",
       "    <tr>\n",
       "      <th>Rodriguez High School</th>\n",
       "      <td>71.940722</td>\n",
       "      <td>71.779808</td>\n",
       "      <td>72.364811</td>\n",
       "      <td>72.154626</td>\n",
       "    </tr>\n",
       "    <tr>\n",
       "      <th>Shelton High School</th>\n",
       "      <td>72.932075</td>\n",
       "      <td>72.506696</td>\n",
       "      <td>70.097087</td>\n",
       "      <td>72.331536</td>\n",
       "    </tr>\n",
       "    <tr>\n",
       "      <th>Thomas High School</th>\n",
       "      <td>69.234273</td>\n",
       "      <td>70.057007</td>\n",
       "      <td>69.657831</td>\n",
       "      <td>69.369822</td>\n",
       "    </tr>\n",
       "    <tr>\n",
       "      <th>Wilson High School</th>\n",
       "      <td>69.212361</td>\n",
       "      <td>69.455446</td>\n",
       "      <td>68.378965</td>\n",
       "      <td>69.787472</td>\n",
       "    </tr>\n",
       "    <tr>\n",
       "      <th>Wright High School</th>\n",
       "      <td>71.741176</td>\n",
       "      <td>72.179012</td>\n",
       "      <td>73.275862</td>\n",
       "      <td>70.848238</td>\n",
       "    </tr>\n",
       "  </tbody>\n",
       "</table>\n",
       "</div>"
      ],
      "text/plain": [
       "                          Year 9    Year 10    Year 11    Year 12\n",
       "Bailey High School     72.493827  71.897498  72.374900  72.675097\n",
       "Cabrera High School    72.321970  72.437768  71.008299  70.604712\n",
       "Figueroa High School   68.477804  68.331586  68.811001  69.325282\n",
       "Ford High School       69.021609  69.387006  69.248862  68.617811\n",
       "Griffin High School    72.789731  71.093596  71.692521  71.469178\n",
       "Hernandez High School  68.586831  68.867156  69.154412  68.985075\n",
       "Holden High School     70.543307  75.105263  71.640777  73.409639\n",
       "Huang High School      69.081754  68.533246  69.431345  68.639316\n",
       "Johnson High School    69.469286  67.990220  68.637730  69.287393\n",
       "Pena High School       71.996364  72.396000  72.523438  71.187845\n",
       "Rodriguez High School  71.940722  71.779808  72.364811  72.154626\n",
       "Shelton High School    72.932075  72.506696  70.097087  72.331536\n",
       "Thomas High School     69.234273  70.057007  69.657831  69.369822\n",
       "Wilson High School     69.212361  69.455446  68.378965  69.787472\n",
       "Wright High School     71.741176  72.179012  73.275862  70.848238"
      ]
     },
     "execution_count": 12,
     "metadata": {},
     "output_type": "execute_result"
    }
   ],
   "source": []
  },
  {
   "cell_type": "markdown",
   "metadata": {},
   "source": [
    "## Reading Score by Year"
   ]
  },
  {
   "cell_type": "markdown",
   "metadata": {},
   "source": [
    "* Perform the same operations as above for reading scores"
   ]
  },
  {
   "cell_type": "code",
   "execution_count": 13,
   "metadata": {},
   "outputs": [
    {
     "data": {
      "text/html": [
       "<div>\n",
       "<style scoped>\n",
       "    .dataframe tbody tr th:only-of-type {\n",
       "        vertical-align: middle;\n",
       "    }\n",
       "\n",
       "    .dataframe tbody tr th {\n",
       "        vertical-align: top;\n",
       "    }\n",
       "\n",
       "    .dataframe thead th {\n",
       "        text-align: right;\n",
       "    }\n",
       "</style>\n",
       "<table border=\"1\" class=\"dataframe\">\n",
       "  <thead>\n",
       "    <tr style=\"text-align: right;\">\n",
       "      <th></th>\n",
       "      <th>Year 9</th>\n",
       "      <th>Year 10</th>\n",
       "      <th>Year 11</th>\n",
       "      <th>Year 12</th>\n",
       "    </tr>\n",
       "  </thead>\n",
       "  <tbody>\n",
       "    <tr>\n",
       "      <th>Bailey High School</th>\n",
       "      <td>70.901920</td>\n",
       "      <td>70.848265</td>\n",
       "      <td>70.317346</td>\n",
       "      <td>72.195525</td>\n",
       "    </tr>\n",
       "    <tr>\n",
       "      <th>Cabrera High School</th>\n",
       "      <td>71.172348</td>\n",
       "      <td>71.328326</td>\n",
       "      <td>71.201245</td>\n",
       "      <td>71.856021</td>\n",
       "    </tr>\n",
       "    <tr>\n",
       "      <th>Figueroa High School</th>\n",
       "      <td>70.261682</td>\n",
       "      <td>67.677588</td>\n",
       "      <td>69.152327</td>\n",
       "      <td>69.082126</td>\n",
       "    </tr>\n",
       "    <tr>\n",
       "      <th>Ford High School</th>\n",
       "      <td>69.615846</td>\n",
       "      <td>68.988701</td>\n",
       "      <td>70.735964</td>\n",
       "      <td>68.849722</td>\n",
       "    </tr>\n",
       "    <tr>\n",
       "      <th>Griffin High School</th>\n",
       "      <td>72.026895</td>\n",
       "      <td>70.746305</td>\n",
       "      <td>72.385042</td>\n",
       "      <td>69.434932</td>\n",
       "    </tr>\n",
       "    <tr>\n",
       "      <th>Hernandez High School</th>\n",
       "      <td>68.477569</td>\n",
       "      <td>70.621842</td>\n",
       "      <td>68.418199</td>\n",
       "      <td>69.244136</td>\n",
       "    </tr>\n",
       "    <tr>\n",
       "      <th>Holden High School</th>\n",
       "      <td>71.598425</td>\n",
       "      <td>71.096491</td>\n",
       "      <td>73.310680</td>\n",
       "      <td>70.481928</td>\n",
       "    </tr>\n",
       "    <tr>\n",
       "      <th>Huang High School</th>\n",
       "      <td>68.670616</td>\n",
       "      <td>69.516297</td>\n",
       "      <td>68.740638</td>\n",
       "      <td>68.671795</td>\n",
       "    </tr>\n",
       "    <tr>\n",
       "      <th>Johnson High School</th>\n",
       "      <td>68.719286</td>\n",
       "      <td>69.295029</td>\n",
       "      <td>69.969115</td>\n",
       "      <td>67.992521</td>\n",
       "    </tr>\n",
       "    <tr>\n",
       "      <th>Pena High School</th>\n",
       "      <td>70.949091</td>\n",
       "      <td>72.324000</td>\n",
       "      <td>71.703125</td>\n",
       "      <td>71.513812</td>\n",
       "    </tr>\n",
       "    <tr>\n",
       "      <th>Rodriguez High School</th>\n",
       "      <td>70.902921</td>\n",
       "      <td>70.137500</td>\n",
       "      <td>71.424453</td>\n",
       "      <td>71.414449</td>\n",
       "    </tr>\n",
       "    <tr>\n",
       "      <th>Shelton High School</th>\n",
       "      <td>70.715094</td>\n",
       "      <td>69.879464</td>\n",
       "      <td>71.150485</td>\n",
       "      <td>69.070081</td>\n",
       "    </tr>\n",
       "    <tr>\n",
       "      <th>Thomas High School</th>\n",
       "      <td>69.672451</td>\n",
       "      <td>69.741093</td>\n",
       "      <td>70.749398</td>\n",
       "      <td>68.730769</td>\n",
       "    </tr>\n",
       "    <tr>\n",
       "      <th>Wilson High School</th>\n",
       "      <td>68.683043</td>\n",
       "      <td>68.412541</td>\n",
       "      <td>68.796327</td>\n",
       "      <td>69.888143</td>\n",
       "    </tr>\n",
       "    <tr>\n",
       "      <th>Wright High School</th>\n",
       "      <td>71.823529</td>\n",
       "      <td>71.386831</td>\n",
       "      <td>70.475862</td>\n",
       "      <td>69.821138</td>\n",
       "    </tr>\n",
       "  </tbody>\n",
       "</table>\n",
       "</div>"
      ],
      "text/plain": [
       "                          Year 9    Year 10    Year 11    Year 12\n",
       "Bailey High School     70.901920  70.848265  70.317346  72.195525\n",
       "Cabrera High School    71.172348  71.328326  71.201245  71.856021\n",
       "Figueroa High School   70.261682  67.677588  69.152327  69.082126\n",
       "Ford High School       69.615846  68.988701  70.735964  68.849722\n",
       "Griffin High School    72.026895  70.746305  72.385042  69.434932\n",
       "Hernandez High School  68.477569  70.621842  68.418199  69.244136\n",
       "Holden High School     71.598425  71.096491  73.310680  70.481928\n",
       "Huang High School      68.670616  69.516297  68.740638  68.671795\n",
       "Johnson High School    68.719286  69.295029  69.969115  67.992521\n",
       "Pena High School       70.949091  72.324000  71.703125  71.513812\n",
       "Rodriguez High School  70.902921  70.137500  71.424453  71.414449\n",
       "Shelton High School    70.715094  69.879464  71.150485  69.070081\n",
       "Thomas High School     69.672451  69.741093  70.749398  68.730769\n",
       "Wilson High School     68.683043  68.412541  68.796327  69.888143\n",
       "Wright High School     71.823529  71.386831  70.475862  69.821138"
      ]
     },
     "execution_count": 13,
     "metadata": {},
     "output_type": "execute_result"
    }
   ],
   "source": []
  },
  {
   "cell_type": "markdown",
   "metadata": {},
   "source": [
    "## Scores by School Spending"
   ]
  },
  {
   "cell_type": "markdown",
   "metadata": {},
   "source": [
    "* Create a table that breaks down school performances based on average Spending Ranges (Per Student). Use 4 reasonable bins to group school spending. Include in the table each of the following:\n",
    "  * Average Maths Score\n",
    "  * Average Reading Score\n",
    "  * % Passing Maths\n",
    "  * % Passing Reading\n",
    "  * Overall Passing Rate (Average of the above two)"
   ]
  },
  {
   "cell_type": "code",
   "execution_count": 18,
   "metadata": {},
   "outputs": [
    {
     "data": {
      "text/html": [
       "<div>\n",
       "<style scoped>\n",
       "    .dataframe tbody tr th:only-of-type {\n",
       "        vertical-align: middle;\n",
       "    }\n",
       "\n",
       "    .dataframe tbody tr th {\n",
       "        vertical-align: top;\n",
       "    }\n",
       "\n",
       "    .dataframe thead th {\n",
       "        text-align: right;\n",
       "    }\n",
       "</style>\n",
       "<table border=\"1\" class=\"dataframe\">\n",
       "  <thead>\n",
       "    <tr style=\"text-align: right;\">\n",
       "      <th></th>\n",
       "      <th>Average Maths Score</th>\n",
       "      <th>Average Reading Score</th>\n",
       "      <th>% Passing Maths</th>\n",
       "      <th>% Passing Reading</th>\n",
       "      <th>% Overall Passing</th>\n",
       "    </tr>\n",
       "    <tr>\n",
       "      <th>Spending Ranges (Per Student)</th>\n",
       "      <th></th>\n",
       "      <th></th>\n",
       "      <th></th>\n",
       "      <th></th>\n",
       "      <th></th>\n",
       "    </tr>\n",
       "  </thead>\n",
       "  <tbody>\n",
       "    <tr>\n",
       "      <th>&lt;$585</th>\n",
       "      <td>71.36</td>\n",
       "      <td>70.72</td>\n",
       "      <td>88.84</td>\n",
       "      <td>86.39</td>\n",
       "      <td>76.72</td>\n",
       "    </tr>\n",
       "    <tr>\n",
       "      <th>$585-630</th>\n",
       "      <td>72.07</td>\n",
       "      <td>71.03</td>\n",
       "      <td>91.52</td>\n",
       "      <td>87.29</td>\n",
       "      <td>79.88</td>\n",
       "    </tr>\n",
       "    <tr>\n",
       "      <th>$630-645</th>\n",
       "      <td>69.85</td>\n",
       "      <td>69.84</td>\n",
       "      <td>84.69</td>\n",
       "      <td>83.76</td>\n",
       "      <td>71.00</td>\n",
       "    </tr>\n",
       "    <tr>\n",
       "      <th>$645-680</th>\n",
       "      <td>68.88</td>\n",
       "      <td>69.05</td>\n",
       "      <td>81.57</td>\n",
       "      <td>81.77</td>\n",
       "      <td>66.76</td>\n",
       "    </tr>\n",
       "  </tbody>\n",
       "</table>\n",
       "</div>"
      ],
      "text/plain": [
       "                               Average Maths Score  Average Reading Score  \\\n",
       "Spending Ranges (Per Student)                                               \n",
       "<$585                                        71.36                  70.72   \n",
       "$585-630                                     72.07                  71.03   \n",
       "$630-645                                     69.85                  69.84   \n",
       "$645-680                                     68.88                  69.05   \n",
       "\n",
       "                               % Passing Maths  % Passing Reading  \\\n",
       "Spending Ranges (Per Student)                                       \n",
       "<$585                                    88.84              86.39   \n",
       "$585-630                                 91.52              87.29   \n",
       "$630-645                                 84.69              83.76   \n",
       "$645-680                                 81.57              81.77   \n",
       "\n",
       "                               % Overall Passing  \n",
       "Spending Ranges (Per Student)                     \n",
       "<$585                                      76.72  \n",
       "$585-630                                   79.88  \n",
       "$630-645                                   71.00  \n",
       "$645-680                                   66.76  "
      ]
     },
     "execution_count": 18,
     "metadata": {},
     "output_type": "execute_result"
    }
   ],
   "source": []
  },
  {
   "cell_type": "markdown",
   "metadata": {},
   "source": [
    "## Scores by School Size"
   ]
  },
  {
   "cell_type": "markdown",
   "metadata": {},
   "source": [
    "* Perform the same operations as above, based on school size."
   ]
  },
  {
   "cell_type": "code",
   "execution_count": 22,
   "metadata": {
    "scrolled": true
   },
   "outputs": [
    {
     "data": {
      "text/html": [
       "<div>\n",
       "<style scoped>\n",
       "    .dataframe tbody tr th:only-of-type {\n",
       "        vertical-align: middle;\n",
       "    }\n",
       "\n",
       "    .dataframe tbody tr th {\n",
       "        vertical-align: top;\n",
       "    }\n",
       "\n",
       "    .dataframe thead th {\n",
       "        text-align: right;\n",
       "    }\n",
       "</style>\n",
       "<table border=\"1\" class=\"dataframe\">\n",
       "  <thead>\n",
       "    <tr style=\"text-align: right;\">\n",
       "      <th></th>\n",
       "      <th>Average Maths Score</th>\n",
       "      <th>Average Reading Score</th>\n",
       "      <th>% Passing Maths</th>\n",
       "      <th>% Passing Reading</th>\n",
       "      <th>% Overall Passing</th>\n",
       "    </tr>\n",
       "    <tr>\n",
       "      <th>School Size</th>\n",
       "      <th></th>\n",
       "      <th></th>\n",
       "      <th></th>\n",
       "      <th></th>\n",
       "      <th></th>\n",
       "    </tr>\n",
       "  </thead>\n",
       "  <tbody>\n",
       "    <tr>\n",
       "      <th>Small (&lt;1000)</th>\n",
       "      <td>72.335748</td>\n",
       "      <td>71.636864</td>\n",
       "      <td>90.806867</td>\n",
       "      <td>87.557513</td>\n",
       "      <td>79.066348</td>\n",
       "    </tr>\n",
       "    <tr>\n",
       "      <th>Medium (1000-2000)</th>\n",
       "      <td>71.421650</td>\n",
       "      <td>70.720164</td>\n",
       "      <td>89.846560</td>\n",
       "      <td>86.714149</td>\n",
       "      <td>78.039785</td>\n",
       "    </tr>\n",
       "    <tr>\n",
       "      <th>Large (2000-5000)</th>\n",
       "      <td>69.751809</td>\n",
       "      <td>69.576052</td>\n",
       "      <td>84.252804</td>\n",
       "      <td>83.301185</td>\n",
       "      <td>70.293507</td>\n",
       "    </tr>\n",
       "  </tbody>\n",
       "</table>\n",
       "</div>"
      ],
      "text/plain": [
       "                    Average Maths Score  Average Reading Score  \\\n",
       "School Size                                                      \n",
       "Small (<1000)                 72.335748              71.636864   \n",
       "Medium (1000-2000)            71.421650              70.720164   \n",
       "Large (2000-5000)             69.751809              69.576052   \n",
       "\n",
       "                    % Passing Maths  % Passing Reading  % Overall Passing  \n",
       "School Size                                                                \n",
       "Small (<1000)             90.806867          87.557513          79.066348  \n",
       "Medium (1000-2000)        89.846560          86.714149          78.039785  \n",
       "Large (2000-5000)         84.252804          83.301185          70.293507  "
      ]
     },
     "execution_count": 22,
     "metadata": {},
     "output_type": "execute_result"
    }
   ],
   "source": []
  },
  {
   "cell_type": "markdown",
   "metadata": {},
   "source": [
    "## Scores by School Type"
   ]
  },
  {
   "cell_type": "markdown",
   "metadata": {},
   "source": [
    "* Perform the same operations as above, based on school type"
   ]
  },
  {
   "cell_type": "code",
   "execution_count": 24,
   "metadata": {},
   "outputs": [
    {
     "data": {
      "text/html": [
       "<div>\n",
       "<style scoped>\n",
       "    .dataframe tbody tr th:only-of-type {\n",
       "        vertical-align: middle;\n",
       "    }\n",
       "\n",
       "    .dataframe tbody tr th {\n",
       "        vertical-align: top;\n",
       "    }\n",
       "\n",
       "    .dataframe thead th {\n",
       "        text-align: right;\n",
       "    }\n",
       "</style>\n",
       "<table border=\"1\" class=\"dataframe\">\n",
       "  <thead>\n",
       "    <tr style=\"text-align: right;\">\n",
       "      <th></th>\n",
       "      <th>Average Maths Score</th>\n",
       "      <th>Average Reading Score</th>\n",
       "      <th>% Passing Maths</th>\n",
       "      <th>% Passing Reading</th>\n",
       "      <th>% Overall Passing</th>\n",
       "    </tr>\n",
       "    <tr>\n",
       "      <th>School Type</th>\n",
       "      <th></th>\n",
       "      <th></th>\n",
       "      <th></th>\n",
       "      <th></th>\n",
       "      <th></th>\n",
       "    </tr>\n",
       "  </thead>\n",
       "  <tbody>\n",
       "    <tr>\n",
       "      <th>Government</th>\n",
       "      <td>69.834806</td>\n",
       "      <td>69.675929</td>\n",
       "      <td>84.462375</td>\n",
       "      <td>83.587562</td>\n",
       "      <td>70.698993</td>\n",
       "    </tr>\n",
       "    <tr>\n",
       "      <th>Independent</th>\n",
       "      <td>71.368822</td>\n",
       "      <td>70.718933</td>\n",
       "      <td>89.204043</td>\n",
       "      <td>86.247789</td>\n",
       "      <td>76.973340</td>\n",
       "    </tr>\n",
       "  </tbody>\n",
       "</table>\n",
       "</div>"
      ],
      "text/plain": [
       "             Average Maths Score  Average Reading Score  % Passing Maths  \\\n",
       "School Type                                                                \n",
       "Government             69.834806              69.675929        84.462375   \n",
       "Independent            71.368822              70.718933        89.204043   \n",
       "\n",
       "             % Passing Reading  % Overall Passing  \n",
       "School Type                                        \n",
       "Government           83.587562          70.698993  \n",
       "Independent          86.247789          76.973340  "
      ]
     },
     "execution_count": 24,
     "metadata": {},
     "output_type": "execute_result"
    }
   ],
   "source": []
  },
  {
   "cell_type": "code",
   "execution_count": null,
   "metadata": {},
   "outputs": [],
   "source": []
  }
 ],
 "metadata": {
  "anaconda-cloud": {},
  "kernel_info": {
   "name": "python3"
  },
  "kernelspec": {
   "display_name": "Python 3 (ipykernel)",
   "language": "python",
   "name": "python3"
  },
  "language_info": {
   "codemirror_mode": {
    "name": "ipython",
    "version": 3
   },
   "file_extension": ".py",
   "mimetype": "text/x-python",
   "name": "python",
   "nbconvert_exporter": "python",
   "pygments_lexer": "ipython3",
   "version": "3.9.13"
  },
  "latex_envs": {
   "LaTeX_envs_menu_present": true,
   "autoclose": false,
   "autocomplete": true,
   "bibliofile": "biblio.bib",
   "cite_by": "apalike",
   "current_citInitial": 1,
   "eqLabelWithNumbers": true,
   "eqNumInitial": 1,
   "hotkeys": {
    "equation": "Ctrl-E",
    "itemize": "Ctrl-I"
   },
   "labels_anchors": false,
   "latex_user_defs": false,
   "report_style_numbering": false,
   "user_envs_cfg": false
  },
  "nteract": {
   "version": "0.8.4"
  }
 },
 "nbformat": 4,
 "nbformat_minor": 1
}
